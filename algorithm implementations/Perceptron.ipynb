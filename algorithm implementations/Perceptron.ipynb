{
 "cells": [
  {
   "cell_type": "code",
   "execution_count": 2,
   "metadata": {},
   "outputs": [],
   "source": [
    "import matplotlib.pyplot as plt\n",
    "from numpy import *\n",
    "from math import *"
   ]
  },
  {
   "cell_type": "code",
   "execution_count": 303,
   "metadata": {},
   "outputs": [],
   "source": [
    "def generateData():\n",
    "    groups = array([[3,3],[4,3],[1,1],[0.5,2],[5,4]])\n",
    "    labels = [1,1,-1,-1,1]\n",
    "    return groups, labels"
   ]
  },
  {
   "cell_type": "markdown",
   "metadata": {},
   "source": [
    "**Perceptron algorithm**"
   ]
  },
  {
   "cell_type": "code",
   "execution_count": 350,
   "metadata": {},
   "outputs": [],
   "source": [
    "def perceptron_train(data,labels,num_iter=50,learning_rate = 1):\n",
    "    dataMat = mat(data)\n",
    "    labelMat = mat(labels).T\n",
    "    \n",
    "    m, n = np.shape(dataMat)\n",
    "    #Set init value of params to be 0\n",
    "    w = zeros((1, np.shape(dataMat)[1]))\n",
    "    b = 0\n",
    "    \n",
    "    for j in range(num_iter):\n",
    "        for i in range(m):\n",
    "            #Get corresponding x and y\n",
    "            x = dataMat[i]\n",
    "            y = labelMat[i]\n",
    "            #Calculate inequalities to see if the point is misclassified\n",
    "            equa = -1 * y * (w * x.T + b)\n",
    "\n",
    "            if equa >= 0:\n",
    "    #             The point is misclassified\n",
    "                w = w + learning_rate * y * x\n",
    "                b = b + learning_rate * y\n",
    "        print(f'iter: {j}')\n",
    "    return w, b"
   ]
  },
  {
   "cell_type": "code",
   "execution_count": 372,
   "metadata": {},
   "outputs": [],
   "source": [
    "def perceptron_test(test_data,test_label,w,b):\n",
    "    dataMat = mat(test_data)\n",
    "    labelMat = mat(test_label).T\n",
    "    \n",
    "    m, n = np.shape(dataMat)\n",
    "    err = 0\n",
    "    \n",
    "    for i in range(m):\n",
    "        #Get corresponding x and y\n",
    "        x = dataMat[i]\n",
    "        y = labelMat[i]\n",
    "        #Calculate inequalities to see if the point is misclassified\n",
    "        equa = -1 * y * (w * x.T + b)\n",
    "        if equa >= 0:\n",
    "            #The point is misclassified\n",
    "            err += 1\n",
    "            print(f'Misclassified point: {x}')\n",
    "    return 1 - (err / m)"
   ]
  },
  {
   "cell_type": "markdown",
   "metadata": {},
   "source": [
    "*Training step*"
   ]
  },
  {
   "cell_type": "code",
   "execution_count": 373,
   "metadata": {},
   "outputs": [],
   "source": [
    "groups, labels = generateData()"
   ]
  },
  {
   "cell_type": "code",
   "execution_count": 374,
   "metadata": {
    "scrolled": true
   },
   "outputs": [
    {
     "data": {
      "image/png": "[encoded data removed]",
      "text/plain": [
       "<Figure size 432x288 with 1 Axes>"
      ]
     },
     "metadata": {
      "needs_background": "light"
     },
     "output_type": "display_data"
    }
   ],
   "source": [
    "fig = plt.figure()\n",
    "ax = fig.add_subplot(221)\n",
    "for i in range(len(groups)):\n",
    "    if labels[i] == 1:\n",
    "        ax.scatter(groups[i,0],groups[i,1],marker='o',color='orange')\n",
    "    else:\n",
    "        ax.scatter(groups[i,0],groups[i,1],marker='x',color='orange')\n",
    "plt.show()"
   ]
  },
  {
   "cell_type": "code",
   "execution_count": 375,
   "metadata": {},
   "outputs": [
    {
     "name": "stdout",
     "output_type": "stream",
     "text": [
      "iter: 0\n",
      "iter: 1\n",
      "iter: 2\n",
      "iter: 3\n",
      "iter: 4\n",
      "iter: 5\n",
      "iter: 6\n",
      "iter: 7\n",
      "iter: 8\n",
      "iter: 9\n",
      "iter: 10\n",
      "iter: 11\n",
      "iter: 12\n",
      "iter: 13\n",
      "iter: 14\n",
      "iter: 15\n",
      "iter: 16\n",
      "iter: 17\n",
      "iter: 18\n",
      "iter: 19\n",
      "iter: 20\n",
      "iter: 21\n",
      "iter: 22\n",
      "iter: 23\n",
      "iter: 24\n",
      "iter: 25\n",
      "iter: 26\n",
      "iter: 27\n",
      "iter: 28\n",
      "iter: 29\n",
      "iter: 30\n",
      "iter: 31\n",
      "iter: 32\n",
      "iter: 33\n",
      "iter: 34\n",
      "iter: 35\n",
      "iter: 36\n",
      "iter: 37\n",
      "iter: 38\n",
      "iter: 39\n",
      "iter: 40\n",
      "iter: 41\n",
      "iter: 42\n",
      "iter: 43\n",
      "iter: 44\n",
      "iter: 45\n",
      "iter: 46\n",
      "iter: 47\n",
      "iter: 48\n",
      "iter: 49\n"
     ]
    }
   ],
   "source": [
    "w,b = perceptron_train(groups,labels)"
   ]
  },
  {
   "cell_type": "markdown",
   "metadata": {},
   "source": [
    "*Test step*"
   ]
  },
  {
   "cell_type": "code",
   "execution_count": 376,
   "metadata": {},
   "outputs": [],
   "source": [
    "test_data = array([[4,4],[3,2],[2,1],[6,3]])\n",
    "test_label = [1,1,-1,1]"
   ]
  },
  {
   "cell_type": "code",
   "execution_count": 377,
   "metadata": {},
   "outputs": [
    {
     "data": {
      "image/png": "[encoded data removed]",
      "text/plain": [
       "<Figure size 432x288 with 1 Axes>"
      ]
     },
     "metadata": {
      "needs_background": "light"
     },
     "output_type": "display_data"
    }
   ],
   "source": [
    "#Visualize test data with training data\n",
    "fig = plt.figure()\n",
    "ax = fig.add_subplot(221)\n",
    "for i in range(len(test_data)):\n",
    "    if test_label[i] == 1:\n",
    "        ax.scatter(test_data[i,0],test_data[i,1],marker='o',color='blue')\n",
    "    else:\n",
    "        ax.scatter(test_data[i,0],test_data[i,1],marker='x',color='blue')\n",
    "plt.show()"
   ]
  },
  {
   "cell_type": "code",
   "execution_count": 378,
   "metadata": {},
   "outputs": [
    {
     "name": "stdout",
     "output_type": "stream",
     "text": [
      "Misclassified point: [[2 1]]\n",
      "Accuracy:  0.75\n"
     ]
    }
   ],
   "source": [
    "err = perceptron_test(test_data,test_label,w,b)\n",
    "print('Accuracy: ',err)"
   ]
  },
  {
   "cell_type": "code",
   "execution_count": null,
   "metadata": {},
   "outputs": [],
   "source": []
  }
 ],
 "metadata": {
  "kernelspec": {
   "display_name": "Python 3",
   "language": "python",
   "name": "python3"
  },
  "language_info": {
   "codemirror_mode": {
    "name": "ipython",
    "version": 3
   },
   "file_extension": ".py",
   "mimetype": "text/x-python",
   "name": "python",
   "nbconvert_exporter": "python",
   "pygments_lexer": "ipython3",
   "version": "3.7.3"
  }
 },
 "nbformat": 4,
 "nbformat_minor": 2
}
